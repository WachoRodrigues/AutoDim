{
 "cells": [
  {
   "cell_type": "code",
   "execution_count": 1,
   "metadata": {},
   "outputs": [],
   "source": [
    "import numpy as np  \n",
    "import matplotlib.pyplot as plt\n",
    "import pandas as pd\n",
    "from sklearn.model_selection import train_test_split\n",
    "from sklearn.preprocessing import OneHotEncoder\n",
    "from sklearn import metrics\n",
    "from sklearn.model_selection import KFold\n",
    "import tensorflow as tf\n",
    "#Function import\n",
    "from ipynb.fs.full.autoXRD import normdata\n",
    "from ipynb.fs.full.autoXRD import normdatasingle\n",
    "from ipynb.fs.full.autoXRD import augdata\n",
    "from ipynb.fs.full.autoXRD import exp_augdata\n",
    "from ipynb.fs.full.autoXRD import exp_data_processing"
   ]
  },
  {
   "cell_type": "code",
   "execution_count": 2,
   "metadata": {},
   "outputs": [
    {
     "name": "stdout",
     "output_type": "stream",
     "text": [
      "(2402, 1468)\n",
      "(2401, 1468)\n",
      "(2401, 734)\n"
     ]
    }
   ],
   "source": [
    "#Import simulated XRD\n",
    "theor = pd.read_csv('Datasets/theor.csv', index_col=0)\n",
    "print(theor.shape)\n",
    "theor = theor.iloc[1:,]\n",
    "theor_arr = theor.values\n",
    "print(theor_arr.shape)\n",
    "\n",
    "# Normalize data for training\n",
    "ntheor = normdata(theor_arr)\n",
    "print(ntheor.shape)\n",
    "\n",
    "#exp = pd.read_csv('Datasets/exp.csv', index_col=0)\n",
    "#exp_arr = exp.values\n",
    "#print(exp_arr.shape)"
   ]
  },
  {
   "cell_type": "code",
   "execution_count": 3,
   "metadata": {},
   "outputs": [
    {
     "name": "stdout",
     "output_type": "stream",
     "text": [
      "1468\n",
      "(2401, 734)\n"
     ]
    }
   ],
   "source": [
    "#Import dimensionalities\n",
    "label_theo = pd.read_csv('Datasets/label_theo_dataaug.csv', header=None, index_col=0)\n",
    "label_theo = label_theo[1].tolist()\n",
    "\n",
    "# Load experimental class labels\n",
    "#label_exp= pd.read_csv('Datasets/label_theo.csv', index_col=0).values\n",
    "#label_exp = label_exp.reshape([len(label_exp),])\n",
    "\n",
    "space_group_enc = pd.read_csv('Datasets/encoding.csv', index_col=0)\n",
    "space_group_enc = list(space_group_enc['0'])\n",
    "\n",
    "print(len(label_theo))\n",
    "print(ntheor.shape)"
   ]
  },
  {
   "cell_type": "code",
   "execution_count": 4,
   "metadata": {},
   "outputs": [
    {
     "name": "stdout",
     "output_type": "stream",
     "text": [
      "(2401, 8000)\n",
      "(2000, 8000)\n",
      "(8000,)\n"
     ]
    }
   ],
   "source": [
    "#augdata(data,num,par1,minn,maxn)\n",
    "# Specify how many data points we augmented\n",
    "th_num = 8000\n",
    "\n",
    "# Define 2theta range for data augmentation\n",
    "exp_min = 0\n",
    "exp_max = 2000\n",
    "theor_min = 150\n",
    "theor_max = theor_min+exp_max-exp_min\n",
    "\n",
    "# Perform data augmentation\n",
    "augd, pard, crop_augd = augdata(ntheor, th_num, label_theo, theor_min, theor_max) \n",
    "\n",
    "# Enconde theoretical labels\n",
    "label_t = np.zeros([len(pard),])\n",
    "for i in range(len(pard)):\n",
    "    label_t[i] = space_group_enc.index(pard[i])\n",
    "\n",
    "print(augd.shape)\n",
    "print(crop_augd.shape)\n",
    "print(label_t.shape)"
   ]
  },
  {
   "cell_type": "code",
   "execution_count": 5,
   "metadata": {},
   "outputs": [
    {
     "name": "stdout",
     "output_type": "stream",
     "text": [
      "(8000, 2000, 1)\n",
      "(8000,)\n"
     ]
    }
   ],
   "source": [
    "#prepare X et Y\n",
    "X_th = np.transpose(crop_augd)\n",
    "#X_th = X_th.reshape(734, 2401, 1)\n",
    "X_th = X_th.reshape(th_num, exp_max-exp_min, 1)\n",
    "Y_th = label_t\n",
    "\n",
    "X_th = X_th.astype(np.float32)\n",
    "Y_th = Y_th.astype(np.float32)\n",
    "\n",
    "# Shuffle dataset\n",
    "indexes = np.arange(th_num)\n",
    "np.random.shuffle(indexes)\n",
    "X_th = X_th[indexes]\n",
    "Y_th = Y_th[indexes]\n",
    "\n",
    "print(X_th.shape)\n",
    "print(Y_th.shape)"
   ]
  },
  {
   "cell_type": "code",
   "execution_count": 6,
   "metadata": {},
   "outputs": [
    {
     "name": "stdout",
     "output_type": "stream",
     "text": [
      "X_th_train (5360, 2000, 1)\n",
      "X_th_valid (2640, 2000, 1)\n",
      "Y_th_train (5360,)\n",
      "Y_th_valid (2640,)\n",
      "<TensorSliceDataset shapes: ((2000, 1), ()), types: (tf.float32, tf.float32)>\n",
      "<TensorSliceDataset shapes: ((2000, 1), ()), types: (tf.float32, tf.float32)>\n"
     ]
    }
   ],
   "source": [
    "# Introduction de set de test à partir de la base de données\n",
    "# Definition du set de test 20% d'images random\n",
    "# Avec cette ligne on definit set de images et targets pour l'entrainement et test\n",
    "X_th_train, X_th_valid, Y_th_train, Y_th_valid = train_test_split(X_th, Y_th, test_size=0.33)\n",
    "\n",
    "print(\"X_th_train\", X_th_train.shape)\n",
    "print(\"X_th_valid\", X_th_valid.shape)\n",
    "\n",
    "print(\"Y_th_train\", Y_th_train.shape)\n",
    "print(\"Y_th_valid\", Y_th_valid.shape)\n",
    "\n",
    "train_dataset = tf.data.Dataset.from_tensor_slices((X_th, Y_th))\n",
    "valid_dataset = tf.data.Dataset.from_tensor_slices((X_th_valid, Y_th_valid))\n",
    "\n",
    "print(train_dataset)\n",
    "print(valid_dataset)"
   ]
  },
  {
   "cell_type": "code",
   "execution_count": 7,
   "metadata": {},
   "outputs": [
    {
     "name": "stdout",
     "output_type": "stream",
     "text": [
      "(32, 2000, 1) (32,)\n"
     ]
    }
   ],
   "source": [
    "# Iter in the dataset with a number of epoch and batch size\n",
    "epoch = 1\n",
    "batch_size = 32\n",
    "for X_th_batch, Y_th_batch in train_dataset.repeat(epoch).batch(batch_size):\n",
    "    print(X_th_batch.shape, Y_th_batch.shape)\n",
    "    break"
   ]
  },
  {
   "cell_type": "code",
   "execution_count": 8,
   "metadata": {},
   "outputs": [],
   "source": [
    "class ConvModel(tf.keras.Model):\n",
    "    \n",
    "    def __init__(self):\n",
    "        super(ConvModel, self).__init__()\n",
    "        # Convolutions\n",
    "        self.conv1 = tf.keras.layers.Conv1D(filters=64, kernel_size=20, strides=1, padding='same', activation='relu', name=\"conv1\")\n",
    "        self.pool1 = tf.compat.v1.layers.MaxPooling1D(pool_size=3, strides=3, padding='same', name=\"pool1\")\n",
    "        self.conv2 = tf.keras.layers.Conv1D(filters=64, kernel_size=15, strides=1, padding='same', activation='relu', name=\"conv2\")\n",
    "        self.pool2 = tf.compat.v1.layers.MaxPooling1D(pool_size=2, strides=3, padding='same', name=\"pool2\")\n",
    "        self.conv3 = tf.keras.layers.Conv1D(filters=64, kernel_size=10, strides=1, padding='same', activation='relu', name=\"conv3\")\n",
    "        self.pool3 = tf.compat.v1.layers.MaxPooling1D(pool_size=1, strides=2, padding='same', name=\"pool3\")\n",
    "        # Flatten the convolution\n",
    "        self.flatten = tf.keras.layers.Flatten(name=\"flatten\")       \n",
    "        # Dense layers\n",
    "        self.d1 = tf.keras.layers.Dense(1024, activation='relu', name=\"d1\")\n",
    "        self.d2 = tf.keras.layers.Dense(128, activation='relu', name=\"d2\")\n",
    "        self.out = tf.keras.layers.Dense(4, activation='softmax', name=\"output\")\n",
    "\n",
    "    def call(self, X_th):\n",
    "        conv1 = self.conv1(X_th)\n",
    "        pool1 = self.pool1(conv1)\n",
    "        conv2 = self.conv2(pool1)\n",
    "        pool2 = self.pool2(conv2)\n",
    "        conv3 = self.conv3(pool2)\n",
    "        pool3 = self.pool1(conv3)\n",
    "        flatten = self.flatten(conv3)\n",
    "        #print(flatten)\n",
    "        d1 = self.d1(flatten)\n",
    "        d2 = self.d2(d1)\n",
    "        #print(d1)\n",
    "        output = self.out(d2)\n",
    "        return output\n",
    "\n",
    "model = ConvModel()\n",
    "#model.predict(X_exp[:,:,:])"
   ]
  },
  {
   "cell_type": "code",
   "execution_count": null,
   "metadata": {},
   "outputs": [],
   "source": []
  },
  {
   "cell_type": "code",
   "execution_count": 9,
   "metadata": {},
   "outputs": [],
   "source": [
    "#Define loss, optimizer, accuracy for the model to compile\n",
    "loss_object = tf.keras.losses.SparseCategoricalCrossentropy()\n",
    "optimizer = tf.keras.optimizers.Adam()\n",
    "\n",
    "# Loss\n",
    "train_loss = tf.keras.metrics.Mean(name='train_loss')\n",
    "valid_loss = tf.keras.metrics.Mean(name='valid_loss')\n",
    "# Accuracy\n",
    "train_accuracy = tf.keras.metrics.SparseCategoricalAccuracy(name='train_accuracy')\n",
    "valid_accuracy = tf.keras.metrics.SparseCategoricalAccuracy(name='valid_accuracy')"
   ]
  },
  {
   "cell_type": "code",
   "execution_count": 10,
   "metadata": {},
   "outputs": [],
   "source": [
    "# Definition de la fonction qui va entrainer le modele\n",
    "# On utilise un graphe @\n",
    "@tf.function\n",
    "def train_step(X_th, Y_th):\n",
    "    # Calcul du gradient\n",
    "    with tf.GradientTape() as tape:\n",
    "        # Make a prediction on all the batch\n",
    "        predictions = model(X_th)\n",
    "        # Get the error/loss on these predictions\n",
    "        loss = loss_object(Y_th, predictions)\n",
    "    # Compute the gradient which respect to the loss\n",
    "    gradients = tape.gradient(loss, model.trainable_variables)\n",
    "    # Change the weights of the model\n",
    "    optimizer.apply_gradients(zip(gradients, model.trainable_variables))\n",
    "    # The metrics are accumulate over time. You don't need to average it yourself.\n",
    "    train_loss(loss)\n",
    "    train_accuracy(Y_th, predictions)"
   ]
  },
  {
   "cell_type": "code",
   "execution_count": 11,
   "metadata": {},
   "outputs": [],
   "source": [
    "# Methode de validation en mode graphe\n",
    "@tf.function\n",
    "def valid_step(X_th, Y_th):\n",
    "    predictions = model(X_th)\n",
    "    t_loss = loss_object(Y_th, predictions)\n",
    "    # Set the metrics for the test\n",
    "    valid_loss(t_loss)\n",
    "    valid_accuracy(Y_th, predictions)"
   ]
  },
  {
   "cell_type": "code",
   "execution_count": null,
   "metadata": {},
   "outputs": [
    {
     "name": "stdout",
     "output_type": "stream",
     "text": [
      " Batch 7968/8000, Loss: 0.5877431035041809, Accuracy: 78.55130920410156\n",
      "Epoch 1, Valid Loss: 0.3449949622154236, Valid Accuracy: 86.89393615722656\n",
      " Batch 15968/8000, Loss: 0.29407253861427307, Accuracy: 88.73750305175781\n",
      "Epoch 2, Valid Loss: 0.15827582776546478, Valid Accuracy: 94.01515197753906\n",
      " Batch 23968/8000, Loss: 0.16449300944805145, Accuracy: 94.25905822753916\n",
      "Epoch 3, Valid Loss: 0.0803399533033371, Valid Accuracy: 97.08333587646484\n",
      " Batch 31968/8000, Loss: 0.0797349214553833, Accuracy: 97.387496948242193\n",
      "Epoch 4, Valid Loss: 0.033911384642124176, Valid Accuracy: 98.71212005615234\n",
      " Batch 39968/8000, Loss: 0.03646985441446304, Accuracy: 98.762496948242197\n",
      "Epoch 5, Valid Loss: 0.030703555792570114, Valid Accuracy: 99.16666412353516\n",
      " Batch 47968/8000, Loss: 0.03387049213051796, Accuracy: 98.887496948242194\n",
      "Epoch 6, Valid Loss: 0.035829927772283554, Valid Accuracy: 98.71212005615234\n",
      " Batch 55968/8000, Loss: 0.03314613178372383, Accuracy: 98.975006103515628\n",
      "Epoch 7, Valid Loss: 0.017541609704494476, Valid Accuracy: 99.50757598876953\n",
      " Batch 63968/8000, Loss: 0.009992516599595547, Accuracy: 99.66249847412113\n",
      "Epoch 8, Valid Loss: 0.0022956891916692257, Valid Accuracy: 99.92424011230469\n",
      " Batch 71968/8000, Loss: 0.014051553793251514, Accuracy: 99.562545239257814\n",
      "Epoch 9, Valid Loss: 0.025171009823679924, Valid Accuracy: 99.09091186523438\n",
      " Batch 79968/8000, Loss: 0.020927753299474716, Accuracy: 99.28749847412118\n",
      "Epoch 10, Valid Loss: 0.004961785394698381, Valid Accuracy: 99.8484878540039\n",
      " Batch 87968/8000, Loss: 0.0037201012019068003, Accuracy: 99.88750457763672\n",
      "Epoch 11, Valid Loss: 0.0018565033096820116, Valid Accuracy: 99.92424011230469\n",
      " Batch 95968/8000, Loss: 0.00023425754625350237, Accuracy: 100.0\n",
      "Epoch 12, Valid Loss: 4.184052158962004e-05, Valid Accuracy: 100.0\n",
      " Batch 103968/8000, Loss: 2.337737532798201e-05, Accuracy: 100.00\n",
      "Epoch 13, Valid Loss: 1.581735341460444e-05, Valid Accuracy: 100.0\n",
      " Batch 111968/8000, Loss: 1.1376300790288951e-05, Accuracy: 100.0\n",
      "Epoch 14, Valid Loss: 1.1167920092702843e-05, Valid Accuracy: 100.0\n",
      " Batch 119968/8000, Loss: 8.282819180749357e-06, Accuracy: 100.00\n",
      "Epoch 15, Valid Loss: 8.44998885440873e-06, Valid Accuracy: 100.0\n",
      " Batch 127968/8000, Loss: 6.355739969876595e-06, Accuracy: 100.00\n",
      "Epoch 16, Valid Loss: 6.6291408984398e-06, Valid Accuracy: 100.0\n",
      " Batch 135968/8000, Loss: 5.027005499869119e-06, Accuracy: 100.00\n",
      "Epoch 17, Valid Loss: 5.321886419551447e-06, Valid Accuracy: 100.0\n",
      " Batch 143968/8000, Loss: 4.063628693984356e-06, Accuracy: 100.00\n",
      "Epoch 18, Valid Loss: 4.34153298556339e-06, Valid Accuracy: 100.0\n",
      " Batch 151968/8000, Loss: 3.3236506169487257e-06, Accuracy: 100.0\n",
      "Epoch 19, Valid Loss: 3.573474941731547e-06, Valid Accuracy: 100.0\n",
      " Batch 156512/8000, Loss: 3.225988848498673e-06, Accuracy: 100.00"
     ]
    }
   ],
   "source": [
    "#Iteration du modele\n",
    "epoch = 20\n",
    "batch_size = 32\n",
    "b = 0 #Compter les batchs\n",
    "for epoch in range(epoch):\n",
    "    # Training set\n",
    "    for X_th_batch, Y_th_batch in train_dataset.batch(batch_size): #Iteration dans la dataset\n",
    "        train_step(X_th_batch, Y_th_batch) #On lance un entrainement\n",
    "        template = '\\r Batch {}/{}, Loss: {}, Accuracy: {}'\n",
    "        print(template.format(\n",
    "            b, len(Y_th), train_loss.result(), \n",
    "            train_accuracy.result()*100\n",
    "        ), end=\"\") #Informations de l'entrainement\n",
    "        b += batch_size\n",
    "    # Validation set\n",
    "    for X_th_batch, Y_th_batch in valid_dataset.batch(batch_size):\n",
    "        valid_step(X_th_batch, Y_th_batch) #Mesure precision sur chacun des batch\n",
    "\n",
    "    template = '\\nEpoch {}, Valid Loss: {}, Valid Accuracy: {}'\n",
    "    print(template.format(\n",
    "        epoch+1,\n",
    "        valid_loss.result(), \n",
    "        valid_accuracy.result()*100)\n",
    "    )\n",
    "    #A la fin de chaque epoch on vide\n",
    "    valid_loss.reset_states()\n",
    "    valid_accuracy.reset_states()\n",
    "    train_accuracy.reset_states()\n",
    "    train_loss.reset_states()"
   ]
  },
  {
   "cell_type": "code",
   "execution_count": null,
   "metadata": {},
   "outputs": [],
   "source": [
    "res = model.predict(X_th[:,:,:])\n",
    "print(res.shape)\n",
    "for i in range(0, 10):\n",
    "    print(res[i], Y_th[i])"
   ]
  },
  {
   "cell_type": "code",
   "execution_count": null,
   "metadata": {},
   "outputs": [],
   "source": [
    "#Load experimental data as dataframe\n",
    "exp = pd.read_csv('Datasets/exp2_raw.csv', index_col=0)\n",
    "exp_arr = exp.values\n",
    "#exp_arr = exp_arr.astype(np.float32)\n",
    "print(exp_arr.shape)\n",
    "\n",
    "#Normalisation\n",
    "nexp = normdata(exp_arr)\n",
    "plt.plot(nexp)\n",
    "plt.xlim(0,500)\n",
    "plt.show()\n",
    "print(nexp.shape)\n",
    "\n",
    "# Process data experimental\n",
    "# Define spectral range for data augmentation\n",
    "\n",
    "#window size for experimental data extraction\n",
    "window = 10\n",
    "theor_max = theor_min+exp_max-exp_min\n",
    "\n",
    "# Preprocess experimental data\n",
    "post_exp = normdatasingle(exp_data_processing(nexp, exp_min, exp_max, window))\n",
    "\n",
    "plt.plot(post_exp)\n",
    "plt.xlim(0,500)\n",
    "plt.show()\n",
    "\n",
    "plt.xlim(0,500)\n",
    "plt.plot(ntheor)\n",
    "plt.show()\n",
    "\n",
    "print(post_exp.shape)\n",
    "\n",
    "# Augment data, this may take a bit\n",
    "#augd,pard,crop_augd = augdata(ntheor, th_num, label_theo, theor_min, theor_max)\n",
    "# Input the num of experimetal data points       \n",
    "exp_num = 12\n",
    "#prepare arrays\n",
    "X_exp = np.transpose(post_exp)\n",
    "X_exp = X_exp.reshape(exp_num, exp_max-exp_min, 1)\n",
    "\n",
    "X_exp = X_exp.astype(np.float32)"
   ]
  },
  {
   "cell_type": "code",
   "execution_count": null,
   "metadata": {},
   "outputs": [],
   "source": [
    "model.predict(X_exp[:,:,:])"
   ]
  },
  {
   "cell_type": "code",
   "execution_count": null,
   "metadata": {},
   "outputs": [],
   "source": []
  }
 ],
 "metadata": {
  "kernelspec": {
   "display_name": "Python 3",
   "language": "python",
   "name": "python3"
  },
  "language_info": {
   "codemirror_mode": {
    "name": "ipython",
    "version": 3
   },
   "file_extension": ".py",
   "mimetype": "text/x-python",
   "name": "python",
   "nbconvert_exporter": "python",
   "pygments_lexer": "ipython3",
   "version": "3.7.6"
  }
 },
 "nbformat": 4,
 "nbformat_minor": 4
}
